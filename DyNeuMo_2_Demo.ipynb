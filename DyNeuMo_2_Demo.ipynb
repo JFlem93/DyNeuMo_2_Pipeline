{
  "nbformat": 4,
  "nbformat_minor": 0,
  "metadata": {
    "colab": {
      "provenance": [],
      "authorship_tag": "ABX9TyNXCSUs5YmJtP+7oiYoZXJe",
      "include_colab_link": true
    },
    "kernelspec": {
      "name": "python3",
      "display_name": "Python 3"
    },
    "language_info": {
      "name": "python"
    }
  },
  "cells": [
    {
      "cell_type": "markdown",
      "metadata": {
        "id": "view-in-github",
        "colab_type": "text"
      },
      "source": [
        "<a href=\"https://colab.research.google.com/github/JFlem93/DyNeuMo_2_Pipeline/blob/main/DyNeuMo_2_Demo.ipynb\" target=\"_parent\"><img src=\"https://colab.research.google.com/assets/colab-badge.svg\" alt=\"Open In Colab\"/></a>"
      ]
    },
    {
      "cell_type": "markdown",
      "source": [
        "# DyNeuMo-2 Pipeline\n",
        "\n",
        "This Jupyter Notebook integrates tools for setting up the configuration file for DyNeuMo-2.\n",
        "\n",
        "*A fool with a tool is still a fool - Grady Booch*"
      ],
      "metadata": {
        "id": "POf5horBwwDE"
      }
    },
    {
      "cell_type": "markdown",
      "source": [
        "# New section"
      ],
      "metadata": {
        "id": "Yrkrygglw0Rj"
      }
    },
    {
      "cell_type": "code",
      "execution_count": 3,
      "metadata": {
        "id": "8xZMo8xLwtsF"
      },
      "outputs": [],
      "source": [
        "# Load modules\n",
        "# Data handling and analysis modules -\n",
        "import numpy as np\n",
        "import math\n",
        "from scipy import signal, io\n",
        "import sys\n",
        "import os\n",
        "import csv\n",
        "import pandas as pd\n",
        "from scipy.signal import spectrogram, periodogram, lfilter, freqz, iirfilter\n",
        "\n",
        "# Plotting modules\n",
        "from matplotlib import pyplot as plt\n",
        "\n",
        "# Interactive plotting packages - \n",
        "import holoviews as hv\n",
        "from holoviews import opts, streams\n",
        "from holoviews.plotting.links import DataLink\n",
        "from holoviews.selection import link_selections\n",
        "import panel as pn\n",
        "pn.extension()\n",
        "hv.extension(\"bokeh\", logo=False)\n",
        "\n",
        "from bokeh.plotting import figure, show\n",
        "from bokeh.layouts import column, gridplot, layout\n",
        "from bokeh.models import BoxZoomTool, PanTool, ResetTool, HoverTool, WheelPanTool\n",
        "from bokeh.io import show, curdoc\n",
        "\n",
        "# For representing a datetime\n",
        "from datetime import datetime\n",
        "import dateutil.parser as dparser\n",
        "\n",
        "# For raising warnings\n",
        "import warnings\n"
      ]
    }
  ]
}